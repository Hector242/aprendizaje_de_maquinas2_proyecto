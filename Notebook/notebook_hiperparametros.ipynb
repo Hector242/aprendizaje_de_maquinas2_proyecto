{
 "cells": [
  {
   "cell_type": "code",
   "execution_count": 1,
   "metadata": {},
   "outputs": [],
   "source": [
    "# Import libraries\n",
    "import numpy as np\n",
    "import pandas as pd\n",
    "import optuna\n",
    "from sklearn.model_selection import train_test_split, cross_val_score\n",
    "from sklearn.ensemble import RandomForestRegressor\n",
    "from sklearn.linear_model import LinearRegression\n",
    "from sklearn.svm import SVR\n",
    "from sklearn import metrics\n",
    "import matplotlib.pyplot as plt"
   ]
  },
  {
   "cell_type": "code",
   "execution_count": 2,
   "metadata": {},
   "outputs": [],
   "source": [
    "# load train data\n",
    "train_data = pd.read_csv('../features/train_final.csv')\n",
    "seed = 28"
   ]
  },
  {
   "cell_type": "code",
   "execution_count": 3,
   "metadata": {},
   "outputs": [],
   "source": [
    "# split data in train & validation\n",
    "X = train_data.drop(columns='Item_Outlet_Sales') # Drop feature to predict\n",
    "x_train, x_val, y_train, y_val = train_test_split(X,\n",
    "                                          train_data['Item_Outlet_Sales'],\n",
    "                                          test_size = 0.3,\n",
    "                                          random_state=seed)"
   ]
  },
  {
   "cell_type": "code",
   "execution_count": 4,
   "metadata": {},
   "outputs": [
    {
     "name": "stdout",
     "output_type": "stream",
     "text": [
      " x_train dimension (5966, 10)\n",
      " y_train dimension (5966,)\n"
     ]
    }
   ],
   "source": [
    "print(f' x_train dimension {x_train.shape}')\n",
    "print(f' y_train dimension {y_train.shape}')"
   ]
  },
  {
   "cell_type": "code",
   "execution_count": 5,
   "metadata": {},
   "outputs": [],
   "source": [
    "def objective(trial)->float:\n",
    "    \"\"\"\n",
    "    This function is mean to optimize hyperparameters\n",
    "    of a LinearRegression.\n",
    "    \"\"\"\n",
    "    # Choosing regresor\n",
    "    regressor_n = trial.suggest_categorical('regressor', ['SVR', 'RandomForestRegressor', 'LinearRegression'])\n",
    "\n",
    "    # tunning hyperparameter for each regressor\n",
    "    if regressor_n == 'LinearRegression':\n",
    "        # tunning hyperparameter \n",
    "        fit_intercept = trial.suggest_categorical('fit_intercept',[True, False])\n",
    "        positive = trial.suggest_categorical('positive', [True, False])\n",
    "        # initialize LinearRegression\n",
    "        regressor = LinearRegression(\n",
    "            fit_intercept = fit_intercept,\n",
    "            positive = positive\n",
    "        )\n",
    "    elif regressor_n == 'SVR':\n",
    "        # tunning hyperparameter\n",
    "        kernel = trial.suggest_categorical('kernel',['linear', 'poly', 'rbf', 'sigmoid'])\n",
    "        degree = trial.suggest_int('degree',3,5)\n",
    "        gamma = trial.suggest_categorical('gamma',['scale','auto'])\n",
    "        tol = trial.suggest_float('tol',1e-3,1e5)\n",
    "        max_iter = trial.suggest_int('max_iter',1,1000)\n",
    "        # initialize SVR\n",
    "        regressor = SVR(\n",
    "            kernel = kernel,\n",
    "            degree= degree,\n",
    "            gamma= gamma,\n",
    "            tol= tol,\n",
    "            max_iter= max_iter\n",
    "        )\n",
    "    else:\n",
    "        # tunning hyperparameter\n",
    "        n_estimators = trial.suggest_int('n_estimators',10,100)\n",
    "        criterion = trial.suggest_categorical('criterion',['squared_error', 'absolute_error', \n",
    "                                                           'friedman_mse', 'poisson'])\n",
    "        max_depth = trial.suggest_int('max_depth',2,100)\n",
    "        # initialize RandomForestRegressor\n",
    "        regressor = RandomForestRegressor(\n",
    "            n_estimators= n_estimators,\n",
    "            criterion= criterion,\n",
    "            max_depth= max_depth\n",
    "        )\n",
    "    \n",
    "    regressor.fit(x_train, y_train)\n",
    "    score = cross_val_score(regressor, x_train, y_train, cv=3)\n",
    "    accuracy = score.mean()\n",
    "\n",
    "    return accuracy"
   ]
  },
  {
   "cell_type": "markdown",
   "metadata": {},
   "source": [
    "**Analisis**\n",
    "\n",
    "En esta optimazación de hiperparametros se probaran 3 modelos distintos para resolver el problema de regresión que se plantea en la notebook \"notebook_analysis_train\".\n",
    "\n",
    "Estos 3 modelos serán:\n",
    "* Random Forest para regresion\n",
    "* SVM para regresion \n",
    "* Regresion lineal\n",
    "\n",
    "Para cada uno a traves del framework de **optuna** se le probaran distintos hiperparametros y se obtendrá el modelo que mejor se ajusta a nuestro datos para resolver el problema de regresión.\n",
    "\n",
    "Adicionalmente, se usa RandomSampler para la seleccion aleatoria de hiperparametros en el rango dado."
   ]
  },
  {
   "cell_type": "code",
   "execution_count": 6,
   "metadata": {},
   "outputs": [
    {
     "name": "stderr",
     "output_type": "stream",
     "text": [
      "[I 2023-08-06 16:08:35,887] A new study created in memory with name: no-name-10e207e4-4893-41b2-8d7d-5448aa64d9aa\n",
      "[I 2023-08-06 16:08:35,897] Trial 0 finished with value: -6.1441028995994005 and parameters: {'regressor': 'SVR', 'kernel': 'poly', 'degree': 5, 'gamma': 'auto', 'tol': 19270.098190035853, 'max_iter': 971}. Best is trial 0 with value: -6.1441028995994005.\n",
      "[I 2023-08-06 16:08:35,977] Trial 1 finished with value: 0.5243846465710112 and parameters: {'regressor': 'LinearRegression', 'fit_intercept': True, 'positive': False}. Best is trial 1 with value: 0.5243846465710112.\n",
      "[I 2023-08-06 16:08:36,103] Trial 2 finished with value: -6.1441028995994005 and parameters: {'regressor': 'SVR', 'kernel': 'sigmoid', 'degree': 3, 'gamma': 'auto', 'tol': 14938.373900653904, 'max_iter': 726}. Best is trial 1 with value: 0.5243846465710112.\n",
      "[I 2023-08-06 16:08:36,130] Trial 3 finished with value: -6.1441028995994005 and parameters: {'regressor': 'SVR', 'kernel': 'linear', 'degree': 5, 'gamma': 'scale', 'tol': 65602.30804302299, 'max_iter': 252}. Best is trial 1 with value: 0.5243846465710112.\n",
      "[I 2023-08-06 16:08:36,163] Trial 4 finished with value: -6.1441028995994005 and parameters: {'regressor': 'SVR', 'kernel': 'rbf', 'degree': 4, 'gamma': 'auto', 'tol': 15628.209002085669, 'max_iter': 930}. Best is trial 1 with value: 0.5243846465710112.\n",
      "[I 2023-08-06 16:08:36,895] Trial 5 finished with value: 0.4697706957805677 and parameters: {'regressor': 'RandomForestRegressor', 'n_estimators': 19, 'criterion': 'poisson', 'max_depth': 29}. Best is trial 1 with value: 0.5243846465710112.\n",
      "/Users/hectorsanchez/Documents/tareas-posgrado/TP - AMq2/venv/lib/python3.10/site-packages/sklearn/svm/_base.py:297: ConvergenceWarning: Solver terminated early (max_iter=198).  Consider pre-processing your data with StandardScaler or MinMaxScaler.\n",
      "  warnings.warn(\n",
      "/Users/hectorsanchez/Documents/tareas-posgrado/TP - AMq2/venv/lib/python3.10/site-packages/sklearn/svm/_base.py:297: ConvergenceWarning: Solver terminated early (max_iter=198).  Consider pre-processing your data with StandardScaler or MinMaxScaler.\n",
      "  warnings.warn(\n",
      "/Users/hectorsanchez/Documents/tareas-posgrado/TP - AMq2/venv/lib/python3.10/site-packages/sklearn/svm/_base.py:297: ConvergenceWarning: Solver terminated early (max_iter=198).  Consider pre-processing your data with StandardScaler or MinMaxScaler.\n",
      "  warnings.warn(\n",
      "/Users/hectorsanchez/Documents/tareas-posgrado/TP - AMq2/venv/lib/python3.10/site-packages/sklearn/svm/_base.py:297: ConvergenceWarning: Solver terminated early (max_iter=198).  Consider pre-processing your data with StandardScaler or MinMaxScaler.\n",
      "  warnings.warn(\n",
      "[I 2023-08-06 16:08:37,104] Trial 6 finished with value: -0.13738456333918472 and parameters: {'regressor': 'SVR', 'kernel': 'sigmoid', 'degree': 3, 'gamma': 'scale', 'tol': 4645.909968166004, 'max_iter': 198}. Best is trial 1 with value: 0.5243846465710112.\n",
      "[I 2023-08-06 16:08:39,233] Trial 7 finished with value: 0.4821903310552273 and parameters: {'regressor': 'RandomForestRegressor', 'n_estimators': 58, 'criterion': 'poisson', 'max_depth': 63}. Best is trial 1 with value: 0.5243846465710112.\n",
      "[I 2023-08-06 16:08:39,263] Trial 8 finished with value: 0.5243846465710115 and parameters: {'regressor': 'LinearRegression', 'fit_intercept': False, 'positive': False}. Best is trial 8 with value: 0.5243846465710115.\n",
      "[I 2023-08-06 16:08:40,587] Trial 9 finished with value: 0.4781702093566347 and parameters: {'regressor': 'RandomForestRegressor', 'n_estimators': 32, 'criterion': 'poisson', 'max_depth': 39}. Best is trial 8 with value: 0.5243846465710115.\n",
      "[I 2023-08-06 16:08:40,596] Trial 10 finished with value: -6.1441028995994005 and parameters: {'regressor': 'SVR', 'kernel': 'poly', 'degree': 4, 'gamma': 'scale', 'tol': 43863.3207092748, 'max_iter': 33}. Best is trial 8 with value: 0.5243846465710115.\n",
      "[I 2023-08-06 16:08:40,621] Trial 11 finished with value: 0.5243846465710112 and parameters: {'regressor': 'LinearRegression', 'fit_intercept': True, 'positive': False}. Best is trial 8 with value: 0.5243846465710115.\n",
      "/Users/hectorsanchez/Documents/tareas-posgrado/TP - AMq2/venv/lib/python3.10/site-packages/sklearn/svm/_base.py:297: ConvergenceWarning: Solver terminated early (max_iter=765).  Consider pre-processing your data with StandardScaler or MinMaxScaler.\n",
      "  warnings.warn(\n",
      "/Users/hectorsanchez/Documents/tareas-posgrado/TP - AMq2/venv/lib/python3.10/site-packages/sklearn/svm/_base.py:297: ConvergenceWarning: Solver terminated early (max_iter=765).  Consider pre-processing your data with StandardScaler or MinMaxScaler.\n",
      "  warnings.warn(\n",
      "/Users/hectorsanchez/Documents/tareas-posgrado/TP - AMq2/venv/lib/python3.10/site-packages/sklearn/svm/_base.py:297: ConvergenceWarning: Solver terminated early (max_iter=765).  Consider pre-processing your data with StandardScaler or MinMaxScaler.\n",
      "  warnings.warn(\n",
      "/Users/hectorsanchez/Documents/tareas-posgrado/TP - AMq2/venv/lib/python3.10/site-packages/sklearn/svm/_base.py:297: ConvergenceWarning: Solver terminated early (max_iter=765).  Consider pre-processing your data with StandardScaler or MinMaxScaler.\n",
      "  warnings.warn(\n",
      "[I 2023-08-06 16:08:41,258] Trial 12 finished with value: -0.0030895276883993184 and parameters: {'regressor': 'SVR', 'kernel': 'sigmoid', 'degree': 5, 'gamma': 'auto', 'tol': 461.0653592027801, 'max_iter': 765}. Best is trial 8 with value: 0.5243846465710115.\n",
      "[I 2023-08-06 16:08:44,721] Trial 13 finished with value: 0.48437788233346807 and parameters: {'regressor': 'RandomForestRegressor', 'n_estimators': 96, 'criterion': 'poisson', 'max_depth': 38}. Best is trial 8 with value: 0.5243846465710115.\n",
      "[I 2023-08-06 16:09:03,832] Trial 14 finished with value: 0.41168868815961684 and parameters: {'regressor': 'RandomForestRegressor', 'n_estimators': 47, 'criterion': 'absolute_error', 'max_depth': 2}. Best is trial 8 with value: 0.5243846465710115.\n",
      "[I 2023-08-06 16:09:06,880] Trial 15 finished with value: 0.48414149858336514 and parameters: {'regressor': 'RandomForestRegressor', 'n_estimators': 97, 'criterion': 'squared_error', 'max_depth': 38}. Best is trial 8 with value: 0.5243846465710115.\n",
      "[I 2023-08-06 16:09:06,888] Trial 16 finished with value: -6.1441028995994005 and parameters: {'regressor': 'SVR', 'kernel': 'linear', 'degree': 5, 'gamma': 'auto', 'tol': 22979.863186378785, 'max_iter': 77}. Best is trial 8 with value: 0.5243846465710115.\n",
      "[I 2023-08-06 16:09:06,911] Trial 17 finished with value: 0.5243846465710115 and parameters: {'regressor': 'LinearRegression', 'fit_intercept': False, 'positive': False}. Best is trial 8 with value: 0.5243846465710115.\n",
      "[I 2023-08-06 16:09:07,006] Trial 18 finished with value: -6.1441028995994005 and parameters: {'regressor': 'SVR', 'kernel': 'rbf', 'degree': 4, 'gamma': 'scale', 'tol': 64567.34771167916, 'max_iter': 483}. Best is trial 8 with value: 0.5243846465710115.\n",
      "[I 2023-08-06 16:09:07,034] Trial 19 finished with value: -6.1441028995994005 and parameters: {'regressor': 'SVR', 'kernel': 'sigmoid', 'degree': 4, 'gamma': 'auto', 'tol': 89371.57712410788, 'max_iter': 888}. Best is trial 8 with value: 0.5243846465710115.\n",
      "[I 2023-08-06 16:09:07,926] Trial 20 finished with value: 0.47434060390286675 and parameters: {'regressor': 'RandomForestRegressor', 'n_estimators': 26, 'criterion': 'friedman_mse', 'max_depth': 51}. Best is trial 8 with value: 0.5243846465710115.\n",
      "/Users/hectorsanchez/Documents/tareas-posgrado/TP - AMq2/venv/lib/python3.10/site-packages/sklearn/svm/_base.py:297: ConvergenceWarning: Solver terminated early (max_iter=662).  Consider pre-processing your data with StandardScaler or MinMaxScaler.\n",
      "  warnings.warn(\n",
      "/Users/hectorsanchez/Documents/tareas-posgrado/TP - AMq2/venv/lib/python3.10/site-packages/sklearn/svm/_base.py:297: ConvergenceWarning: Solver terminated early (max_iter=662).  Consider pre-processing your data with StandardScaler or MinMaxScaler.\n",
      "  warnings.warn(\n",
      "/Users/hectorsanchez/Documents/tareas-posgrado/TP - AMq2/venv/lib/python3.10/site-packages/sklearn/svm/_base.py:297: ConvergenceWarning: Solver terminated early (max_iter=662).  Consider pre-processing your data with StandardScaler or MinMaxScaler.\n",
      "  warnings.warn(\n",
      "/Users/hectorsanchez/Documents/tareas-posgrado/TP - AMq2/venv/lib/python3.10/site-packages/sklearn/svm/_base.py:297: ConvergenceWarning: Solver terminated early (max_iter=662).  Consider pre-processing your data with StandardScaler or MinMaxScaler.\n",
      "  warnings.warn(\n",
      "[I 2023-08-06 16:09:08,276] Trial 21 finished with value: 0.06571260588018572 and parameters: {'regressor': 'SVR', 'kernel': 'linear', 'degree': 5, 'gamma': 'auto', 'tol': 2491.5204149929245, 'max_iter': 662}. Best is trial 8 with value: 0.5243846465710115.\n",
      "[I 2023-08-06 16:09:44,533] Trial 22 finished with value: 0.501030928129483 and parameters: {'regressor': 'RandomForestRegressor', 'n_estimators': 72, 'criterion': 'absolute_error', 'max_depth': 3}. Best is trial 8 with value: 0.5243846465710115.\n",
      "[I 2023-08-06 16:09:47,589] Trial 23 finished with value: 0.4788578165414927 and parameters: {'regressor': 'RandomForestRegressor', 'n_estimators': 97, 'criterion': 'friedman_mse', 'max_depth': 54}. Best is trial 8 with value: 0.5243846465710115.\n",
      "[I 2023-08-06 16:09:48,765] Trial 24 finished with value: 0.47645187671057004 and parameters: {'regressor': 'RandomForestRegressor', 'n_estimators': 37, 'criterion': 'friedman_mse', 'max_depth': 71}. Best is trial 8 with value: 0.5243846465710115.\n",
      "[I 2023-08-06 16:09:48,776] Trial 25 finished with value: 0.5255509557579292 and parameters: {'regressor': 'LinearRegression', 'fit_intercept': True, 'positive': True}. Best is trial 25 with value: 0.5255509557579292.\n",
      "[I 2023-08-06 16:09:48,803] Trial 26 finished with value: -2.728911114577658 and parameters: {'regressor': 'SVR', 'kernel': 'rbf', 'degree': 3, 'gamma': 'scale', 'tol': 10133.04216613911, 'max_iter': 613}. Best is trial 25 with value: 0.5255509557579292.\n",
      "[I 2023-08-06 16:09:48,888] Trial 27 finished with value: 0.5243846465710115 and parameters: {'regressor': 'LinearRegression', 'fit_intercept': False, 'positive': False}. Best is trial 25 with value: 0.5255509557579292.\n",
      "[I 2023-08-06 16:09:48,991] Trial 28 finished with value: 0.5243846465710112 and parameters: {'regressor': 'LinearRegression', 'fit_intercept': True, 'positive': False}. Best is trial 25 with value: 0.5255509557579292.\n",
      "[I 2023-08-06 16:09:49,087] Trial 29 finished with value: 0.5243846465710112 and parameters: {'regressor': 'LinearRegression', 'fit_intercept': True, 'positive': False}. Best is trial 25 with value: 0.5255509557579292.\n",
      "[I 2023-08-06 16:09:49,166] Trial 30 finished with value: 0.5243846465710115 and parameters: {'regressor': 'LinearRegression', 'fit_intercept': False, 'positive': False}. Best is trial 25 with value: 0.5255509557579292.\n",
      "[I 2023-08-06 16:09:50,689] Trial 31 finished with value: 0.4829734070929644 and parameters: {'regressor': 'RandomForestRegressor', 'n_estimators': 45, 'criterion': 'friedman_mse', 'max_depth': 36}. Best is trial 25 with value: 0.5255509557579292.\n",
      "[I 2023-08-06 16:09:51,100] Trial 32 finished with value: 0.4952450144804353 and parameters: {'regressor': 'RandomForestRegressor', 'n_estimators': 16, 'criterion': 'friedman_mse', 'max_depth': 14}. Best is trial 25 with value: 0.5255509557579292.\n",
      "[I 2023-08-06 16:09:52,432] Trial 33 finished with value: 0.4811668518621179 and parameters: {'regressor': 'RandomForestRegressor', 'n_estimators': 42, 'criterion': 'friedman_mse', 'max_depth': 73}. Best is trial 25 with value: 0.5255509557579292.\n",
      "[I 2023-08-06 16:09:52,453] Trial 34 finished with value: 0.5243846465710115 and parameters: {'regressor': 'LinearRegression', 'fit_intercept': False, 'positive': False}. Best is trial 25 with value: 0.5255509557579292.\n",
      "[I 2023-08-06 16:09:52,567] Trial 35 finished with value: 0.44588457343608917 and parameters: {'regressor': 'LinearRegression', 'fit_intercept': False, 'positive': True}. Best is trial 25 with value: 0.5255509557579292.\n",
      "[I 2023-08-06 16:09:52,661] Trial 36 finished with value: 0.44588457343608917 and parameters: {'regressor': 'LinearRegression', 'fit_intercept': False, 'positive': True}. Best is trial 25 with value: 0.5255509557579292.\n",
      "[I 2023-08-06 16:09:53,617] Trial 37 finished with value: 0.470502558897721 and parameters: {'regressor': 'RandomForestRegressor', 'n_estimators': 25, 'criterion': 'poisson', 'max_depth': 98}. Best is trial 25 with value: 0.5255509557579292.\n",
      "[I 2023-08-06 16:09:53,637] Trial 38 finished with value: 0.5243846465710112 and parameters: {'regressor': 'LinearRegression', 'fit_intercept': True, 'positive': False}. Best is trial 25 with value: 0.5255509557579292.\n",
      "[I 2023-08-06 16:09:53,717] Trial 39 finished with value: -6.1441028995994005 and parameters: {'regressor': 'SVR', 'kernel': 'linear', 'degree': 5, 'gamma': 'scale', 'tol': 77167.63748192809, 'max_iter': 483}. Best is trial 25 with value: 0.5255509557579292.\n",
      "[I 2023-08-06 16:09:53,739] Trial 40 finished with value: -6.1441028995994005 and parameters: {'regressor': 'SVR', 'kernel': 'poly', 'degree': 5, 'gamma': 'auto', 'tol': 59013.31372761049, 'max_iter': 494}. Best is trial 25 with value: 0.5255509557579292.\n",
      "[I 2023-08-06 16:09:53,752] Trial 41 finished with value: -6.1441028995994005 and parameters: {'regressor': 'SVR', 'kernel': 'linear', 'degree': 3, 'gamma': 'scale', 'tol': 75159.07316175172, 'max_iter': 287}. Best is trial 25 with value: 0.5255509557579292.\n",
      "[I 2023-08-06 16:09:53,765] Trial 42 finished with value: -6.1441028995994005 and parameters: {'regressor': 'SVR', 'kernel': 'rbf', 'degree': 4, 'gamma': 'scale', 'tol': 79747.8885243142, 'max_iter': 822}. Best is trial 25 with value: 0.5255509557579292.\n",
      "[I 2023-08-06 16:09:53,811] Trial 43 finished with value: -6.1441028995994005 and parameters: {'regressor': 'SVR', 'kernel': 'linear', 'degree': 4, 'gamma': 'auto', 'tol': 44614.33963669394, 'max_iter': 171}. Best is trial 25 with value: 0.5255509557579292.\n",
      "[I 2023-08-06 16:09:53,908] Trial 44 finished with value: 0.5243846465710112 and parameters: {'regressor': 'LinearRegression', 'fit_intercept': True, 'positive': False}. Best is trial 25 with value: 0.5255509557579292.\n",
      "[I 2023-08-06 16:09:54,115] Trial 45 finished with value: 0.4302109997110362 and parameters: {'regressor': 'RandomForestRegressor', 'n_estimators': 21, 'criterion': 'friedman_mse', 'max_depth': 2}. Best is trial 25 with value: 0.5255509557579292.\n",
      "[I 2023-08-06 16:09:54,204] Trial 46 finished with value: 0.5243846465710115 and parameters: {'regressor': 'LinearRegression', 'fit_intercept': False, 'positive': False}. Best is trial 25 with value: 0.5255509557579292.\n",
      "[I 2023-08-06 16:10:45,002] Trial 47 finished with value: 0.49246084172071986 and parameters: {'regressor': 'RandomForestRegressor', 'n_estimators': 66, 'criterion': 'absolute_error', 'max_depth': 30}. Best is trial 25 with value: 0.5255509557579292.\n",
      "[I 2023-08-06 16:10:45,011] Trial 48 finished with value: -6.1441028995994005 and parameters: {'regressor': 'SVR', 'kernel': 'rbf', 'degree': 4, 'gamma': 'auto', 'tol': 75163.92093944598, 'max_iter': 360}. Best is trial 25 with value: 0.5255509557579292.\n",
      "[I 2023-08-06 16:10:45,021] Trial 49 finished with value: -6.1441028995994005 and parameters: {'regressor': 'SVR', 'kernel': 'poly', 'degree': 3, 'gamma': 'auto', 'tol': 72896.74824642175, 'max_iter': 162}. Best is trial 25 with value: 0.5255509557579292.\n",
      "[I 2023-08-06 16:10:45,088] Trial 50 finished with value: 0.5243846465710115 and parameters: {'regressor': 'LinearRegression', 'fit_intercept': False, 'positive': False}. Best is trial 25 with value: 0.5255509557579292.\n",
      "[I 2023-08-06 16:10:45,118] Trial 51 finished with value: -6.1441028995994005 and parameters: {'regressor': 'SVR', 'kernel': 'poly', 'degree': 4, 'gamma': 'auto', 'tol': 65649.38104891105, 'max_iter': 476}. Best is trial 25 with value: 0.5255509557579292.\n",
      "[I 2023-08-06 16:10:45,850] Trial 52 finished with value: 0.46541549303830626 and parameters: {'regressor': 'RandomForestRegressor', 'n_estimators': 20, 'criterion': 'squared_error', 'max_depth': 30}. Best is trial 25 with value: 0.5255509557579292.\n",
      "[I 2023-08-06 16:10:46,986] Trial 53 finished with value: 0.5158041219171294 and parameters: {'regressor': 'RandomForestRegressor', 'n_estimators': 42, 'criterion': 'poisson', 'max_depth': 13}. Best is trial 25 with value: 0.5255509557579292.\n",
      "[I 2023-08-06 16:10:46,995] Trial 54 finished with value: -6.1441028995994005 and parameters: {'regressor': 'SVR', 'kernel': 'linear', 'degree': 5, 'gamma': 'auto', 'tol': 61383.19345406088, 'max_iter': 889}. Best is trial 25 with value: 0.5255509557579292.\n",
      "[I 2023-08-06 16:10:56,979] Trial 55 finished with value: 0.47058881552748916 and parameters: {'regressor': 'RandomForestRegressor', 'n_estimators': 13, 'criterion': 'absolute_error', 'max_depth': 32}. Best is trial 25 with value: 0.5255509557579292.\n",
      "[I 2023-08-06 16:10:57,005] Trial 56 finished with value: 0.5243846465710112 and parameters: {'regressor': 'LinearRegression', 'fit_intercept': True, 'positive': False}. Best is trial 25 with value: 0.5255509557579292.\n",
      "[I 2023-08-06 16:10:57,130] Trial 57 finished with value: 0.44588457343608917 and parameters: {'regressor': 'LinearRegression', 'fit_intercept': False, 'positive': True}. Best is trial 25 with value: 0.5255509557579292.\n",
      "[I 2023-08-06 16:11:00,055] Trial 58 finished with value: 0.482390903938631 and parameters: {'regressor': 'RandomForestRegressor', 'n_estimators': 80, 'criterion': 'poisson', 'max_depth': 24}. Best is trial 25 with value: 0.5255509557579292.\n",
      "[I 2023-08-06 16:11:00,063] Trial 59 finished with value: -6.1441028995994005 and parameters: {'regressor': 'SVR', 'kernel': 'linear', 'degree': 5, 'gamma': 'scale', 'tol': 89393.34795542019, 'max_iter': 395}. Best is trial 25 with value: 0.5255509557579292.\n",
      "[I 2023-08-06 16:11:00,074] Trial 60 finished with value: 0.5255509557579292 and parameters: {'regressor': 'LinearRegression', 'fit_intercept': True, 'positive': True}. Best is trial 25 with value: 0.5255509557579292.\n",
      "[I 2023-08-06 16:11:00,107] Trial 61 finished with value: -6.1441028995994005 and parameters: {'regressor': 'SVR', 'kernel': 'rbf', 'degree': 5, 'gamma': 'scale', 'tol': 20531.932200248368, 'max_iter': 557}. Best is trial 25 with value: 0.5255509557579292.\n",
      "[I 2023-08-06 16:11:00,163] Trial 62 finished with value: 0.44588457343608917 and parameters: {'regressor': 'LinearRegression', 'fit_intercept': False, 'positive': True}. Best is trial 25 with value: 0.5255509557579292.\n",
      "[I 2023-08-06 16:11:02,889] Trial 63 finished with value: 0.4827369174868929 and parameters: {'regressor': 'RandomForestRegressor', 'n_estimators': 74, 'criterion': 'poisson', 'max_depth': 58}. Best is trial 25 with value: 0.5255509557579292.\n",
      "[I 2023-08-06 16:11:02,898] Trial 64 finished with value: -6.1441028995994005 and parameters: {'regressor': 'SVR', 'kernel': 'sigmoid', 'degree': 5, 'gamma': 'scale', 'tol': 88755.2402248156, 'max_iter': 99}. Best is trial 25 with value: 0.5255509557579292.\n",
      "[I 2023-08-06 16:11:02,906] Trial 65 finished with value: -6.1441028995994005 and parameters: {'regressor': 'SVR', 'kernel': 'rbf', 'degree': 4, 'gamma': 'auto', 'tol': 97894.81011094863, 'max_iter': 580}. Best is trial 25 with value: 0.5255509557579292.\n",
      "[I 2023-08-06 16:11:02,917] Trial 66 finished with value: -6.1441028995994005 and parameters: {'regressor': 'SVR', 'kernel': 'poly', 'degree': 5, 'gamma': 'scale', 'tol': 60060.153782335845, 'max_iter': 133}. Best is trial 25 with value: 0.5255509557579292.\n",
      "[I 2023-08-06 16:11:04,503] Trial 67 finished with value: 0.47961722701437853 and parameters: {'regressor': 'RandomForestRegressor', 'n_estimators': 50, 'criterion': 'friedman_mse', 'max_depth': 88}. Best is trial 25 with value: 0.5255509557579292.\n",
      "[I 2023-08-06 16:11:04,513] Trial 68 finished with value: -6.1441028995994005 and parameters: {'regressor': 'SVR', 'kernel': 'sigmoid', 'degree': 5, 'gamma': 'scale', 'tol': 75099.28797522416, 'max_iter': 924}. Best is trial 25 with value: 0.5255509557579292.\n",
      "[I 2023-08-06 16:11:04,523] Trial 69 finished with value: -6.1441028995994005 and parameters: {'regressor': 'SVR', 'kernel': 'sigmoid', 'degree': 5, 'gamma': 'scale', 'tol': 23798.73107824515, 'max_iter': 766}. Best is trial 25 with value: 0.5255509557579292.\n",
      "[I 2023-08-06 16:11:04,532] Trial 70 finished with value: -6.1441028995994005 and parameters: {'regressor': 'SVR', 'kernel': 'poly', 'degree': 5, 'gamma': 'scale', 'tol': 75756.70753883116, 'max_iter': 905}. Best is trial 25 with value: 0.5255509557579292.\n",
      "[I 2023-08-06 16:11:56,868] Trial 71 finished with value: 0.48841003130291094 and parameters: {'regressor': 'RandomForestRegressor', 'n_estimators': 68, 'criterion': 'absolute_error', 'max_depth': 74}. Best is trial 25 with value: 0.5255509557579292.\n",
      "[I 2023-08-06 16:11:56,878] Trial 72 finished with value: -3.0415252682760507 and parameters: {'regressor': 'SVR', 'kernel': 'poly', 'degree': 3, 'gamma': 'scale', 'tol': 10340.555269393815, 'max_iter': 283}. Best is trial 25 with value: 0.5255509557579292.\n",
      "[I 2023-08-06 16:11:56,889] Trial 73 finished with value: 0.44588457343608917 and parameters: {'regressor': 'LinearRegression', 'fit_intercept': False, 'positive': True}. Best is trial 25 with value: 0.5255509557579292.\n",
      "[I 2023-08-06 16:11:57,418] Trial 74 finished with value: 0.45768394562650966 and parameters: {'regressor': 'RandomForestRegressor', 'n_estimators': 14, 'criterion': 'squared_error', 'max_depth': 85}. Best is trial 25 with value: 0.5255509557579292.\n",
      "[I 2023-08-06 16:11:59,153] Trial 75 finished with value: 0.48014318050452415 and parameters: {'regressor': 'RandomForestRegressor', 'n_estimators': 55, 'criterion': 'squared_error', 'max_depth': 98}. Best is trial 25 with value: 0.5255509557579292.\n",
      "[I 2023-08-06 16:11:59,634] Trial 76 finished with value: 0.46147022421821743 and parameters: {'regressor': 'RandomForestRegressor', 'n_estimators': 15, 'criterion': 'friedman_mse', 'max_depth': 49}. Best is trial 25 with value: 0.5255509557579292.\n",
      "[I 2023-08-06 16:12:14,636] Trial 77 finished with value: 0.5013626498789673 and parameters: {'regressor': 'RandomForestRegressor', 'n_estimators': 20, 'criterion': 'absolute_error', 'max_depth': 16}. Best is trial 25 with value: 0.5255509557579292.\n",
      "[I 2023-08-06 16:12:15,111] Trial 78 finished with value: 0.5499689067477762 and parameters: {'regressor': 'RandomForestRegressor', 'n_estimators': 26, 'criterion': 'poisson', 'max_depth': 8}. Best is trial 78 with value: 0.5499689067477762.\n",
      "[I 2023-08-06 16:12:15,121] Trial 79 finished with value: -6.1441028995994005 and parameters: {'regressor': 'SVR', 'kernel': 'rbf', 'degree': 5, 'gamma': 'scale', 'tol': 56045.9297069111, 'max_iter': 621}. Best is trial 78 with value: 0.5499689067477762.\n",
      "[I 2023-08-06 16:12:15,130] Trial 80 finished with value: -6.1441028995994005 and parameters: {'regressor': 'SVR', 'kernel': 'rbf', 'degree': 3, 'gamma': 'scale', 'tol': 43206.11335848654, 'max_iter': 187}. Best is trial 78 with value: 0.5499689067477762.\n",
      "[I 2023-08-06 16:12:15,142] Trial 81 finished with value: 0.5255509557579292 and parameters: {'regressor': 'LinearRegression', 'fit_intercept': True, 'positive': True}. Best is trial 78 with value: 0.5499689067477762.\n",
      "[I 2023-08-06 16:12:15,174] Trial 82 finished with value: -6.1441028995994005 and parameters: {'regressor': 'SVR', 'kernel': 'poly', 'degree': 5, 'gamma': 'scale', 'tol': 39929.07984547387, 'max_iter': 225}. Best is trial 78 with value: 0.5499689067477762.\n",
      "[I 2023-08-06 16:12:15,234] Trial 83 finished with value: 0.44588457343608917 and parameters: {'regressor': 'LinearRegression', 'fit_intercept': False, 'positive': True}. Best is trial 78 with value: 0.5499689067477762.\n",
      "[I 2023-08-06 16:12:15,271] Trial 84 finished with value: 0.5255509557579292 and parameters: {'regressor': 'LinearRegression', 'fit_intercept': True, 'positive': True}. Best is trial 78 with value: 0.5499689067477762.\n",
      "[I 2023-08-06 16:12:15,292] Trial 85 finished with value: -6.1441028995994005 and parameters: {'regressor': 'SVR', 'kernel': 'sigmoid', 'degree': 4, 'gamma': 'scale', 'tol': 25535.11980632579, 'max_iter': 766}. Best is trial 78 with value: 0.5499689067477762.\n",
      "[I 2023-08-06 16:12:15,321] Trial 86 finished with value: -6.1441028995994005 and parameters: {'regressor': 'SVR', 'kernel': 'rbf', 'degree': 5, 'gamma': 'auto', 'tol': 56239.155077303505, 'max_iter': 14}. Best is trial 78 with value: 0.5499689067477762.\n",
      "[I 2023-08-06 16:12:15,351] Trial 87 finished with value: -6.1441028995994005 and parameters: {'regressor': 'SVR', 'kernel': 'linear', 'degree': 4, 'gamma': 'scale', 'tol': 97583.9241287628, 'max_iter': 381}. Best is trial 78 with value: 0.5499689067477762.\n",
      "[I 2023-08-06 16:12:18,961] Trial 88 finished with value: 0.4823711972138974 and parameters: {'regressor': 'RandomForestRegressor', 'n_estimators': 99, 'criterion': 'poisson', 'max_depth': 47}. Best is trial 78 with value: 0.5499689067477762.\n",
      "[I 2023-08-06 16:12:18,972] Trial 89 finished with value: -3.9169854803942457 and parameters: {'regressor': 'SVR', 'kernel': 'rbf', 'degree': 4, 'gamma': 'scale', 'tol': 11940.271779664565, 'max_iter': 163}. Best is trial 78 with value: 0.5499689067477762.\n",
      "[I 2023-08-06 16:12:19,018] Trial 90 finished with value: 0.5243846465710112 and parameters: {'regressor': 'LinearRegression', 'fit_intercept': True, 'positive': False}. Best is trial 78 with value: 0.5499689067477762.\n",
      "[I 2023-08-06 16:12:19,143] Trial 91 finished with value: 0.44588457343608917 and parameters: {'regressor': 'LinearRegression', 'fit_intercept': False, 'positive': True}. Best is trial 78 with value: 0.5499689067477762.\n",
      "[I 2023-08-06 16:12:21,098] Trial 92 finished with value: 0.4822476524034534 and parameters: {'regressor': 'RandomForestRegressor', 'n_estimators': 59, 'criterion': 'friedman_mse', 'max_depth': 41}. Best is trial 78 with value: 0.5499689067477762.\n",
      "[I 2023-08-06 16:12:21,109] Trial 93 finished with value: 0.44588457343608917 and parameters: {'regressor': 'LinearRegression', 'fit_intercept': False, 'positive': True}. Best is trial 78 with value: 0.5499689067477762.\n",
      "[I 2023-08-06 16:12:23,327] Trial 94 finished with value: 0.4801031357654697 and parameters: {'regressor': 'RandomForestRegressor', 'n_estimators': 59, 'criterion': 'poisson', 'max_depth': 67}. Best is trial 78 with value: 0.5499689067477762.\n",
      "[I 2023-08-06 16:12:23,384] Trial 95 finished with value: 0.5243846465710115 and parameters: {'regressor': 'LinearRegression', 'fit_intercept': False, 'positive': False}. Best is trial 78 with value: 0.5499689067477762.\n",
      "[I 2023-08-06 16:12:23,550] Trial 96 finished with value: 0.5243846465710112 and parameters: {'regressor': 'LinearRegression', 'fit_intercept': True, 'positive': False}. Best is trial 78 with value: 0.5499689067477762.\n",
      "[I 2023-08-06 16:12:23,577] Trial 97 finished with value: -6.1441028995994005 and parameters: {'regressor': 'SVR', 'kernel': 'linear', 'degree': 3, 'gamma': 'auto', 'tol': 93918.36401169529, 'max_iter': 545}. Best is trial 78 with value: 0.5499689067477762.\n",
      "[I 2023-08-06 16:12:23,617] Trial 98 finished with value: -6.1441028995994005 and parameters: {'regressor': 'SVR', 'kernel': 'poly', 'degree': 3, 'gamma': 'scale', 'tol': 61419.59208854196, 'max_iter': 950}. Best is trial 78 with value: 0.5499689067477762.\n",
      "[I 2023-08-06 16:12:23,699] Trial 99 finished with value: 0.5243846465710115 and parameters: {'regressor': 'LinearRegression', 'fit_intercept': False, 'positive': False}. Best is trial 78 with value: 0.5499689067477762.\n"
     ]
    }
   ],
   "source": [
    "# choosing sampler\n",
    "sampler = optuna.samplers.RandomSampler(seed=28)\n",
    "# Starting study\n",
    "study = optuna.create_study(direction='maximize', sampler=sampler)\n",
    "study.optimize(objective,n_trials=100)"
   ]
  },
  {
   "cell_type": "code",
   "execution_count": 7,
   "metadata": {},
   "outputs": [
    {
     "name": "stdout",
     "output_type": "stream",
     "text": [
      "Mejor resultado: score 0.5499689067477762, params {'regressor': 'RandomForestRegressor', 'n_estimators': 26, 'criterion': 'poisson', 'max_depth': 8}\n"
     ]
    }
   ],
   "source": [
    "# best results\n",
    "print(f'Mejor resultado: score {study.best_trial.value}, params {study.best_trial.params}')"
   ]
  },
  {
   "cell_type": "code",
   "execution_count": 8,
   "metadata": {},
   "outputs": [
    {
     "name": "stdout",
     "output_type": "stream",
     "text": [
      "Métricas del Modelo:\n",
      "ENTRENAMIENTO: RMSE: 1049.54 - R2: 0.6201\n",
      "VALIDACIÓN: RMSE: 1104.59 - R2: 0.5848\n"
     ]
    }
   ],
   "source": [
    "# Checking RMSE and R2 for the best model\n",
    "regressor = study.best_params.__getitem__('regressor')\n",
    "\n",
    "if regressor == 'RandomForestRegressor':\n",
    "    final_model = RandomForestRegressor(\n",
    "        n_estimators= study.best_params.__getitem__('n_estimators'),\n",
    "        criterion= study.best_params.__getitem__('criterion'),\n",
    "        max_depth= study.best_params.__getitem__('max_depth')\n",
    "    )\n",
    "elif regressor == 'SVR':\n",
    "    final_model = SVR(\n",
    "            kernel = study.best_params.__getitem__('kernel'),\n",
    "            degree= study.best_params.__getitem__('degree'),\n",
    "            gamma= study.best_params.__getitem__('gamma'),\n",
    "            tol= study.best_params.__getitem__('tol'),\n",
    "            max_iter= study.best_params.__getitem__('max_iter')\n",
    "        )\n",
    "else:\n",
    "    final_model = LinearRegression(\n",
    "            fit_intercept = study.best_params.__getitem__('fit_intercept'),\n",
    "            positive = study.best_params.__getitem__('positive')\n",
    "        )\n",
    "    pass\n",
    "\n",
    "# train model\n",
    "final_model.fit(x_train,y_train)\n",
    "\n",
    "# predict for validation data\n",
    "pred = final_model.predict(x_val)\n",
    "\n",
    "# calculating RMSE and R2\n",
    "mse_train = metrics.mean_squared_error(y_train, final_model.predict(x_train))\n",
    "R2_train = final_model.score(x_train, y_train)\n",
    "print('Métricas del Modelo:')\n",
    "print('ENTRENAMIENTO: RMSE: {:.2f} - R2: {:.4f}'.format(mse_train**0.5, R2_train))\n",
    "\n",
    "mse_val = metrics.mean_squared_error(y_val, pred)\n",
    "R2_val = final_model.score(x_val, y_val)\n",
    "print('VALIDACIÓN: RMSE: {:.2f} - R2: {:.4f}'.format(mse_val**0.5, R2_val))"
   ]
  },
  {
   "cell_type": "code",
   "execution_count": 13,
   "metadata": {},
   "outputs": [
    {
     "data": {
      "application/vnd.plotly.v1+json": {
       "config": {
        "plotlyServerURL": "https://plot.ly"
       },
       "data": [
        {
         "dimensions": [
          {
           "label": "Objective Value",
           "range": [
            0.41168868815961684,
            0.5499689067477762
           ],
           "values": [
            0.4697706957805677,
            0.4821903310552273,
            0.4781702093566347,
            0.48437788233346807,
            0.41168868815961684,
            0.48414149858336514,
            0.47434060390286675,
            0.501030928129483,
            0.4788578165414927,
            0.47645187671057004,
            0.4829734070929644,
            0.4952450144804353,
            0.4811668518621179,
            0.470502558897721,
            0.4302109997110362,
            0.49246084172071986,
            0.46541549303830626,
            0.5158041219171294,
            0.47058881552748916,
            0.482390903938631,
            0.4827369174868929,
            0.47961722701437853,
            0.48841003130291094,
            0.45768394562650966,
            0.48014318050452415,
            0.46147022421821743,
            0.5013626498789673,
            0.5499689067477762,
            0.4823711972138974,
            0.4822476524034534,
            0.4801031357654697
           ]
          },
          {
           "label": "criterion",
           "range": [
            0,
            3
           ],
           "ticktext": [
            "poisson",
            "absolute_error",
            "squared_error",
            "friedman_mse"
           ],
           "tickvals": [
            0,
            1,
            2,
            3
           ],
           "values": [
            0,
            0,
            0,
            0,
            1,
            2,
            3,
            1,
            3,
            3,
            3,
            3,
            3,
            0,
            3,
            1,
            2,
            0,
            1,
            0,
            0,
            3,
            1,
            2,
            2,
            3,
            1,
            0,
            0,
            3,
            0
           ]
          },
          {
           "label": "max_depth",
           "range": [
            2,
            98
           ],
           "values": [
            29,
            63,
            39,
            38,
            2,
            38,
            51,
            3,
            54,
            71,
            36,
            14,
            73,
            98,
            2,
            30,
            30,
            13,
            32,
            24,
            58,
            88,
            74,
            85,
            98,
            49,
            16,
            8,
            47,
            41,
            67
           ]
          },
          {
           "label": "n_estimators",
           "range": [
            13,
            99
           ],
           "values": [
            19,
            58,
            32,
            96,
            47,
            97,
            26,
            72,
            97,
            37,
            45,
            16,
            42,
            25,
            21,
            66,
            20,
            42,
            13,
            80,
            74,
            50,
            68,
            14,
            55,
            15,
            20,
            26,
            99,
            59,
            59
           ]
          },
          {
           "label": "regressor",
           "range": [
            0,
            0
           ],
           "ticktext": [
            "RandomForestRegressor"
           ],
           "tickvals": [
            0
           ],
           "values": [
            0,
            0,
            0,
            0,
            0,
            0,
            0,
            0,
            0,
            0,
            0,
            0,
            0,
            0,
            0,
            0,
            0,
            0,
            0,
            0,
            0,
            0,
            0,
            0,
            0,
            0,
            0,
            0,
            0,
            0,
            0
           ]
          }
         ],
         "labelangle": 30,
         "labelside": "bottom",
         "line": {
          "color": [
           0.4697706957805677,
           0.4821903310552273,
           0.4781702093566347,
           0.48437788233346807,
           0.41168868815961684,
           0.48414149858336514,
           0.47434060390286675,
           0.501030928129483,
           0.4788578165414927,
           0.47645187671057004,
           0.4829734070929644,
           0.4952450144804353,
           0.4811668518621179,
           0.470502558897721,
           0.4302109997110362,
           0.49246084172071986,
           0.46541549303830626,
           0.5158041219171294,
           0.47058881552748916,
           0.482390903938631,
           0.4827369174868929,
           0.47961722701437853,
           0.48841003130291094,
           0.45768394562650966,
           0.48014318050452415,
           0.46147022421821743,
           0.5013626498789673,
           0.5499689067477762,
           0.4823711972138974,
           0.4822476524034534,
           0.4801031357654697
          ],
          "colorbar": {
           "title": {
            "text": "Objective Value"
           }
          },
          "colorscale": [
           [
            0,
            "rgb(247,251,255)"
           ],
           [
            0.125,
            "rgb(222,235,247)"
           ],
           [
            0.25,
            "rgb(198,219,239)"
           ],
           [
            0.375,
            "rgb(158,202,225)"
           ],
           [
            0.5,
            "rgb(107,174,214)"
           ],
           [
            0.625,
            "rgb(66,146,198)"
           ],
           [
            0.75,
            "rgb(33,113,181)"
           ],
           [
            0.875,
            "rgb(8,81,156)"
           ],
           [
            1,
            "rgb(8,48,107)"
           ]
          ],
          "reversescale": false,
          "showscale": true
         },
         "type": "parcoords"
        }
       ],
       "layout": {
        "template": {
         "data": {
          "bar": [
           {
            "error_x": {
             "color": "#2a3f5f"
            },
            "error_y": {
             "color": "#2a3f5f"
            },
            "marker": {
             "line": {
              "color": "#E5ECF6",
              "width": 0.5
             },
             "pattern": {
              "fillmode": "overlay",
              "size": 10,
              "solidity": 0.2
             }
            },
            "type": "bar"
           }
          ],
          "barpolar": [
           {
            "marker": {
             "line": {
              "color": "#E5ECF6",
              "width": 0.5
             },
             "pattern": {
              "fillmode": "overlay",
              "size": 10,
              "solidity": 0.2
             }
            },
            "type": "barpolar"
           }
          ],
          "carpet": [
           {
            "aaxis": {
             "endlinecolor": "#2a3f5f",
             "gridcolor": "white",
             "linecolor": "white",
             "minorgridcolor": "white",
             "startlinecolor": "#2a3f5f"
            },
            "baxis": {
             "endlinecolor": "#2a3f5f",
             "gridcolor": "white",
             "linecolor": "white",
             "minorgridcolor": "white",
             "startlinecolor": "#2a3f5f"
            },
            "type": "carpet"
           }
          ],
          "choropleth": [
           {
            "colorbar": {
             "outlinewidth": 0,
             "ticks": ""
            },
            "type": "choropleth"
           }
          ],
          "contour": [
           {
            "colorbar": {
             "outlinewidth": 0,
             "ticks": ""
            },
            "colorscale": [
             [
              0,
              "#0d0887"
             ],
             [
              0.1111111111111111,
              "#46039f"
             ],
             [
              0.2222222222222222,
              "#7201a8"
             ],
             [
              0.3333333333333333,
              "#9c179e"
             ],
             [
              0.4444444444444444,
              "#bd3786"
             ],
             [
              0.5555555555555556,
              "#d8576b"
             ],
             [
              0.6666666666666666,
              "#ed7953"
             ],
             [
              0.7777777777777778,
              "#fb9f3a"
             ],
             [
              0.8888888888888888,
              "#fdca26"
             ],
             [
              1,
              "#f0f921"
             ]
            ],
            "type": "contour"
           }
          ],
          "contourcarpet": [
           {
            "colorbar": {
             "outlinewidth": 0,
             "ticks": ""
            },
            "type": "contourcarpet"
           }
          ],
          "heatmap": [
           {
            "colorbar": {
             "outlinewidth": 0,
             "ticks": ""
            },
            "colorscale": [
             [
              0,
              "#0d0887"
             ],
             [
              0.1111111111111111,
              "#46039f"
             ],
             [
              0.2222222222222222,
              "#7201a8"
             ],
             [
              0.3333333333333333,
              "#9c179e"
             ],
             [
              0.4444444444444444,
              "#bd3786"
             ],
             [
              0.5555555555555556,
              "#d8576b"
             ],
             [
              0.6666666666666666,
              "#ed7953"
             ],
             [
              0.7777777777777778,
              "#fb9f3a"
             ],
             [
              0.8888888888888888,
              "#fdca26"
             ],
             [
              1,
              "#f0f921"
             ]
            ],
            "type": "heatmap"
           }
          ],
          "heatmapgl": [
           {
            "colorbar": {
             "outlinewidth": 0,
             "ticks": ""
            },
            "colorscale": [
             [
              0,
              "#0d0887"
             ],
             [
              0.1111111111111111,
              "#46039f"
             ],
             [
              0.2222222222222222,
              "#7201a8"
             ],
             [
              0.3333333333333333,
              "#9c179e"
             ],
             [
              0.4444444444444444,
              "#bd3786"
             ],
             [
              0.5555555555555556,
              "#d8576b"
             ],
             [
              0.6666666666666666,
              "#ed7953"
             ],
             [
              0.7777777777777778,
              "#fb9f3a"
             ],
             [
              0.8888888888888888,
              "#fdca26"
             ],
             [
              1,
              "#f0f921"
             ]
            ],
            "type": "heatmapgl"
           }
          ],
          "histogram": [
           {
            "marker": {
             "pattern": {
              "fillmode": "overlay",
              "size": 10,
              "solidity": 0.2
             }
            },
            "type": "histogram"
           }
          ],
          "histogram2d": [
           {
            "colorbar": {
             "outlinewidth": 0,
             "ticks": ""
            },
            "colorscale": [
             [
              0,
              "#0d0887"
             ],
             [
              0.1111111111111111,
              "#46039f"
             ],
             [
              0.2222222222222222,
              "#7201a8"
             ],
             [
              0.3333333333333333,
              "#9c179e"
             ],
             [
              0.4444444444444444,
              "#bd3786"
             ],
             [
              0.5555555555555556,
              "#d8576b"
             ],
             [
              0.6666666666666666,
              "#ed7953"
             ],
             [
              0.7777777777777778,
              "#fb9f3a"
             ],
             [
              0.8888888888888888,
              "#fdca26"
             ],
             [
              1,
              "#f0f921"
             ]
            ],
            "type": "histogram2d"
           }
          ],
          "histogram2dcontour": [
           {
            "colorbar": {
             "outlinewidth": 0,
             "ticks": ""
            },
            "colorscale": [
             [
              0,
              "#0d0887"
             ],
             [
              0.1111111111111111,
              "#46039f"
             ],
             [
              0.2222222222222222,
              "#7201a8"
             ],
             [
              0.3333333333333333,
              "#9c179e"
             ],
             [
              0.4444444444444444,
              "#bd3786"
             ],
             [
              0.5555555555555556,
              "#d8576b"
             ],
             [
              0.6666666666666666,
              "#ed7953"
             ],
             [
              0.7777777777777778,
              "#fb9f3a"
             ],
             [
              0.8888888888888888,
              "#fdca26"
             ],
             [
              1,
              "#f0f921"
             ]
            ],
            "type": "histogram2dcontour"
           }
          ],
          "mesh3d": [
           {
            "colorbar": {
             "outlinewidth": 0,
             "ticks": ""
            },
            "type": "mesh3d"
           }
          ],
          "parcoords": [
           {
            "line": {
             "colorbar": {
              "outlinewidth": 0,
              "ticks": ""
             }
            },
            "type": "parcoords"
           }
          ],
          "pie": [
           {
            "automargin": true,
            "type": "pie"
           }
          ],
          "scatter": [
           {
            "fillpattern": {
             "fillmode": "overlay",
             "size": 10,
             "solidity": 0.2
            },
            "type": "scatter"
           }
          ],
          "scatter3d": [
           {
            "line": {
             "colorbar": {
              "outlinewidth": 0,
              "ticks": ""
             }
            },
            "marker": {
             "colorbar": {
              "outlinewidth": 0,
              "ticks": ""
             }
            },
            "type": "scatter3d"
           }
          ],
          "scattercarpet": [
           {
            "marker": {
             "colorbar": {
              "outlinewidth": 0,
              "ticks": ""
             }
            },
            "type": "scattercarpet"
           }
          ],
          "scattergeo": [
           {
            "marker": {
             "colorbar": {
              "outlinewidth": 0,
              "ticks": ""
             }
            },
            "type": "scattergeo"
           }
          ],
          "scattergl": [
           {
            "marker": {
             "colorbar": {
              "outlinewidth": 0,
              "ticks": ""
             }
            },
            "type": "scattergl"
           }
          ],
          "scattermapbox": [
           {
            "marker": {
             "colorbar": {
              "outlinewidth": 0,
              "ticks": ""
             }
            },
            "type": "scattermapbox"
           }
          ],
          "scatterpolar": [
           {
            "marker": {
             "colorbar": {
              "outlinewidth": 0,
              "ticks": ""
             }
            },
            "type": "scatterpolar"
           }
          ],
          "scatterpolargl": [
           {
            "marker": {
             "colorbar": {
              "outlinewidth": 0,
              "ticks": ""
             }
            },
            "type": "scatterpolargl"
           }
          ],
          "scatterternary": [
           {
            "marker": {
             "colorbar": {
              "outlinewidth": 0,
              "ticks": ""
             }
            },
            "type": "scatterternary"
           }
          ],
          "surface": [
           {
            "colorbar": {
             "outlinewidth": 0,
             "ticks": ""
            },
            "colorscale": [
             [
              0,
              "#0d0887"
             ],
             [
              0.1111111111111111,
              "#46039f"
             ],
             [
              0.2222222222222222,
              "#7201a8"
             ],
             [
              0.3333333333333333,
              "#9c179e"
             ],
             [
              0.4444444444444444,
              "#bd3786"
             ],
             [
              0.5555555555555556,
              "#d8576b"
             ],
             [
              0.6666666666666666,
              "#ed7953"
             ],
             [
              0.7777777777777778,
              "#fb9f3a"
             ],
             [
              0.8888888888888888,
              "#fdca26"
             ],
             [
              1,
              "#f0f921"
             ]
            ],
            "type": "surface"
           }
          ],
          "table": [
           {
            "cells": {
             "fill": {
              "color": "#EBF0F8"
             },
             "line": {
              "color": "white"
             }
            },
            "header": {
             "fill": {
              "color": "#C8D4E3"
             },
             "line": {
              "color": "white"
             }
            },
            "type": "table"
           }
          ]
         },
         "layout": {
          "annotationdefaults": {
           "arrowcolor": "#2a3f5f",
           "arrowhead": 0,
           "arrowwidth": 1
          },
          "autotypenumbers": "strict",
          "coloraxis": {
           "colorbar": {
            "outlinewidth": 0,
            "ticks": ""
           }
          },
          "colorscale": {
           "diverging": [
            [
             0,
             "#8e0152"
            ],
            [
             0.1,
             "#c51b7d"
            ],
            [
             0.2,
             "#de77ae"
            ],
            [
             0.3,
             "#f1b6da"
            ],
            [
             0.4,
             "#fde0ef"
            ],
            [
             0.5,
             "#f7f7f7"
            ],
            [
             0.6,
             "#e6f5d0"
            ],
            [
             0.7,
             "#b8e186"
            ],
            [
             0.8,
             "#7fbc41"
            ],
            [
             0.9,
             "#4d9221"
            ],
            [
             1,
             "#276419"
            ]
           ],
           "sequential": [
            [
             0,
             "#0d0887"
            ],
            [
             0.1111111111111111,
             "#46039f"
            ],
            [
             0.2222222222222222,
             "#7201a8"
            ],
            [
             0.3333333333333333,
             "#9c179e"
            ],
            [
             0.4444444444444444,
             "#bd3786"
            ],
            [
             0.5555555555555556,
             "#d8576b"
            ],
            [
             0.6666666666666666,
             "#ed7953"
            ],
            [
             0.7777777777777778,
             "#fb9f3a"
            ],
            [
             0.8888888888888888,
             "#fdca26"
            ],
            [
             1,
             "#f0f921"
            ]
           ],
           "sequentialminus": [
            [
             0,
             "#0d0887"
            ],
            [
             0.1111111111111111,
             "#46039f"
            ],
            [
             0.2222222222222222,
             "#7201a8"
            ],
            [
             0.3333333333333333,
             "#9c179e"
            ],
            [
             0.4444444444444444,
             "#bd3786"
            ],
            [
             0.5555555555555556,
             "#d8576b"
            ],
            [
             0.6666666666666666,
             "#ed7953"
            ],
            [
             0.7777777777777778,
             "#fb9f3a"
            ],
            [
             0.8888888888888888,
             "#fdca26"
            ],
            [
             1,
             "#f0f921"
            ]
           ]
          },
          "colorway": [
           "#636efa",
           "#EF553B",
           "#00cc96",
           "#ab63fa",
           "#FFA15A",
           "#19d3f3",
           "#FF6692",
           "#B6E880",
           "#FF97FF",
           "#FECB52"
          ],
          "font": {
           "color": "#2a3f5f"
          },
          "geo": {
           "bgcolor": "white",
           "lakecolor": "white",
           "landcolor": "#E5ECF6",
           "showlakes": true,
           "showland": true,
           "subunitcolor": "white"
          },
          "hoverlabel": {
           "align": "left"
          },
          "hovermode": "closest",
          "mapbox": {
           "style": "light"
          },
          "paper_bgcolor": "white",
          "plot_bgcolor": "#E5ECF6",
          "polar": {
           "angularaxis": {
            "gridcolor": "white",
            "linecolor": "white",
            "ticks": ""
           },
           "bgcolor": "#E5ECF6",
           "radialaxis": {
            "gridcolor": "white",
            "linecolor": "white",
            "ticks": ""
           }
          },
          "scene": {
           "xaxis": {
            "backgroundcolor": "#E5ECF6",
            "gridcolor": "white",
            "gridwidth": 2,
            "linecolor": "white",
            "showbackground": true,
            "ticks": "",
            "zerolinecolor": "white"
           },
           "yaxis": {
            "backgroundcolor": "#E5ECF6",
            "gridcolor": "white",
            "gridwidth": 2,
            "linecolor": "white",
            "showbackground": true,
            "ticks": "",
            "zerolinecolor": "white"
           },
           "zaxis": {
            "backgroundcolor": "#E5ECF6",
            "gridcolor": "white",
            "gridwidth": 2,
            "linecolor": "white",
            "showbackground": true,
            "ticks": "",
            "zerolinecolor": "white"
           }
          },
          "shapedefaults": {
           "line": {
            "color": "#2a3f5f"
           }
          },
          "ternary": {
           "aaxis": {
            "gridcolor": "white",
            "linecolor": "white",
            "ticks": ""
           },
           "baxis": {
            "gridcolor": "white",
            "linecolor": "white",
            "ticks": ""
           },
           "bgcolor": "#E5ECF6",
           "caxis": {
            "gridcolor": "white",
            "linecolor": "white",
            "ticks": ""
           }
          },
          "title": {
           "x": 0.05
          },
          "xaxis": {
           "automargin": true,
           "gridcolor": "white",
           "linecolor": "white",
           "ticks": "",
           "title": {
            "standoff": 15
           },
           "zerolinecolor": "white",
           "zerolinewidth": 2
          },
          "yaxis": {
           "automargin": true,
           "gridcolor": "white",
           "linecolor": "white",
           "ticks": "",
           "title": {
            "standoff": 15
           },
           "zerolinecolor": "white",
           "zerolinewidth": 2
          }
         }
        },
        "title": {
         "text": "Parallel Coordinate Plot"
        }
       }
      }
     },
     "metadata": {},
     "output_type": "display_data"
    }
   ],
   "source": [
    "# grafic all trials and tests for the best model\n",
    "optuna.visualization.plot_parallel_coordinate(study, params= study.best_params)"
   ]
  }
 ],
 "metadata": {
  "kernelspec": {
   "display_name": "venv",
   "language": "python",
   "name": "python3"
  },
  "language_info": {
   "codemirror_mode": {
    "name": "ipython",
    "version": 3
   },
   "file_extension": ".py",
   "mimetype": "text/x-python",
   "name": "python",
   "nbconvert_exporter": "python",
   "pygments_lexer": "ipython3",
   "version": "3.10.9"
  },
  "orig_nbformat": 4
 },
 "nbformat": 4,
 "nbformat_minor": 2
}
