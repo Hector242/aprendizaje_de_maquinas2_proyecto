{
 "cells": [
  {
   "cell_type": "code",
   "execution_count": 3,
   "metadata": {},
   "outputs": [],
   "source": [
    "# Import libraries\n",
    "import numpy as np\n",
    "import pandas as pd\n",
    "import optuna\n",
    "from sklearn.model_selection import train_test_split, cross_val_score\n",
    "from sklearn.linear_model import LinearRegression"
   ]
  },
  {
   "cell_type": "code",
   "execution_count": 4,
   "metadata": {},
   "outputs": [],
   "source": [
    "# load train data\n",
    "train_data = pd.read_csv('../features/train_final.csv')\n",
    "seed = 28"
   ]
  },
  {
   "cell_type": "code",
   "execution_count": 5,
   "metadata": {},
   "outputs": [],
   "source": [
    "# split data in train & validation\n",
    "X = train_data.drop(columns='Item_Outlet_Sales') # Drop feature to predict\n",
    "x_train, x_val, y_train, y_val = train_test_split(X,\n",
    "                                          train_data['Item_Outlet_Sales'],\n",
    "                                          test_size = 0.3,\n",
    "                                          random_state=seed)"
   ]
  },
  {
   "cell_type": "code",
   "execution_count": 9,
   "metadata": {},
   "outputs": [
    {
     "name": "stdout",
     "output_type": "stream",
     "text": [
      " x_train dimension (5966, 10)\n",
      " y_train dimension (5966,)\n"
     ]
    }
   ],
   "source": [
    "print(f' x_train dimension {x_train.shape}')\n",
    "print(f' y_train dimension {y_train.shape}')"
   ]
  },
  {
   "cell_type": "code",
   "execution_count": null,
   "metadata": {},
   "outputs": [],
   "source": [
    "def objective(trial)->None:\n",
    "    \"\"\"\n",
    "    This function is mean to optimize hyperparameters\n",
    "    of a LinearRegression.\n",
    "    \"\"\"\n",
    "    \n",
    "    return None"
   ]
  }
 ],
 "metadata": {
  "kernelspec": {
   "display_name": "venv",
   "language": "python",
   "name": "python3"
  },
  "language_info": {
   "codemirror_mode": {
    "name": "ipython",
    "version": 3
   },
   "file_extension": ".py",
   "mimetype": "text/x-python",
   "name": "python",
   "nbconvert_exporter": "python",
   "pygments_lexer": "ipython3",
   "version": "3.10.9"
  },
  "orig_nbformat": 4
 },
 "nbformat": 4,
 "nbformat_minor": 2
}
